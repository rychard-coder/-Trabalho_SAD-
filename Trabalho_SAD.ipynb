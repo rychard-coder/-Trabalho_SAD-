{
  "nbformat": 4,
  "nbformat_minor": 0,
  "metadata": {
    "colab": {
      "provenance": [],
      "authorship_tag": "ABX9TyPpWiH0JT1bCe+pmRTA4LpG",
      "include_colab_link": true
    },
    "kernelspec": {
      "name": "python3",
      "display_name": "Python 3"
    },
    "language_info": {
      "name": "python"
    }
  },
  "cells": [
    {
      "cell_type": "markdown",
      "metadata": {
        "id": "view-in-github",
        "colab_type": "text"
      },
      "source": [
        "<a href=\"https://colab.research.google.com/github/rychard-coder/-Trabalho_SAD-/blob/main/Trabalho_SAD.ipynb\" target=\"_parent\"><img src=\"https://colab.research.google.com/assets/colab-badge.svg\" alt=\"Open In Colab\"/></a>"
      ]
    },
    {
      "cell_type": "code",
      "execution_count": null,
      "metadata": {
        "colab": {
          "base_uri": "https://localhost:8080/"
        },
        "collapsed": true,
        "id": "jJe_MMC8z2sz",
        "outputId": "b4502e25-8178-4be2-d604-78d8fa797351"
      },
      "outputs": [
        {
          "output_type": "stream",
          "name": "stdout",
          "text": [
            "Drive already mounted at /content/drive; to attempt to forcibly remount, call drive.mount(\"/content/drive\", force_remount=True).\n"
          ]
        }
      ],
      "source": [
        "from google.colab import drive\n",
        "drive.mount('/content/drive')"
      ]
    },
    {
      "cell_type": "code",
      "source": [
        "pip install adjustText"
      ],
      "metadata": {
        "colab": {
          "base_uri": "https://localhost:8080/"
        },
        "collapsed": true,
        "id": "b-3LC4Sj0L_Q",
        "outputId": "82c22d53-6aff-49fa-ac8f-742d8c727dbb"
      },
      "execution_count": null,
      "outputs": [
        {
          "output_type": "stream",
          "name": "stdout",
          "text": [
            "Collecting adjustText\n",
            "  Downloading adjustText-1.3.0-py3-none-any.whl.metadata (3.1 kB)\n",
            "Requirement already satisfied: numpy in /usr/local/lib/python3.10/dist-packages (from adjustText) (1.26.4)\n",
            "Requirement already satisfied: matplotlib in /usr/local/lib/python3.10/dist-packages (from adjustText) (3.8.0)\n",
            "Requirement already satisfied: scipy in /usr/local/lib/python3.10/dist-packages (from adjustText) (1.13.1)\n",
            "Requirement already satisfied: contourpy>=1.0.1 in /usr/local/lib/python3.10/dist-packages (from matplotlib->adjustText) (1.3.1)\n",
            "Requirement already satisfied: cycler>=0.10 in /usr/local/lib/python3.10/dist-packages (from matplotlib->adjustText) (0.12.1)\n",
            "Requirement already satisfied: fonttools>=4.22.0 in /usr/local/lib/python3.10/dist-packages (from matplotlib->adjustText) (4.55.3)\n",
            "Requirement already satisfied: kiwisolver>=1.0.1 in /usr/local/lib/python3.10/dist-packages (from matplotlib->adjustText) (1.4.7)\n",
            "Requirement already satisfied: packaging>=20.0 in /usr/local/lib/python3.10/dist-packages (from matplotlib->adjustText) (24.2)\n",
            "Requirement already satisfied: pillow>=6.2.0 in /usr/local/lib/python3.10/dist-packages (from matplotlib->adjustText) (11.0.0)\n",
            "Requirement already satisfied: pyparsing>=2.3.1 in /usr/local/lib/python3.10/dist-packages (from matplotlib->adjustText) (3.2.0)\n",
            "Requirement already satisfied: python-dateutil>=2.7 in /usr/local/lib/python3.10/dist-packages (from matplotlib->adjustText) (2.8.2)\n",
            "Requirement already satisfied: six>=1.5 in /usr/local/lib/python3.10/dist-packages (from python-dateutil>=2.7->matplotlib->adjustText) (1.17.0)\n",
            "Downloading adjustText-1.3.0-py3-none-any.whl (13 kB)\n",
            "Installing collected packages: adjustText\n",
            "Successfully installed adjustText-1.3.0\n"
          ]
        }
      ]
    },
    {
      "cell_type": "code",
      "source": [
        "pip install catboost"
      ],
      "metadata": {
        "collapsed": true,
        "colab": {
          "base_uri": "https://localhost:8080/"
        },
        "id": "3XR65N4N0RmU",
        "outputId": "2a5947df-d98a-4b9f-ff58-a772edf1f9e3"
      },
      "execution_count": null,
      "outputs": [
        {
          "output_type": "stream",
          "name": "stdout",
          "text": [
            "Collecting catboost\n",
            "  Downloading catboost-1.2.7-cp310-cp310-manylinux2014_x86_64.whl.metadata (1.2 kB)\n",
            "Requirement already satisfied: graphviz in /usr/local/lib/python3.10/dist-packages (from catboost) (0.20.3)\n",
            "Requirement already satisfied: matplotlib in /usr/local/lib/python3.10/dist-packages (from catboost) (3.8.0)\n",
            "Requirement already satisfied: numpy<2.0,>=1.16.0 in /usr/local/lib/python3.10/dist-packages (from catboost) (1.26.4)\n",
            "Requirement already satisfied: pandas>=0.24 in /usr/local/lib/python3.10/dist-packages (from catboost) (2.2.2)\n",
            "Requirement already satisfied: scipy in /usr/local/lib/python3.10/dist-packages (from catboost) (1.13.1)\n",
            "Requirement already satisfied: plotly in /usr/local/lib/python3.10/dist-packages (from catboost) (5.24.1)\n",
            "Requirement already satisfied: six in /usr/local/lib/python3.10/dist-packages (from catboost) (1.17.0)\n",
            "Requirement already satisfied: python-dateutil>=2.8.2 in /usr/local/lib/python3.10/dist-packages (from pandas>=0.24->catboost) (2.8.2)\n",
            "Requirement already satisfied: pytz>=2020.1 in /usr/local/lib/python3.10/dist-packages (from pandas>=0.24->catboost) (2024.2)\n",
            "Requirement already satisfied: tzdata>=2022.7 in /usr/local/lib/python3.10/dist-packages (from pandas>=0.24->catboost) (2024.2)\n",
            "Requirement already satisfied: contourpy>=1.0.1 in /usr/local/lib/python3.10/dist-packages (from matplotlib->catboost) (1.3.1)\n",
            "Requirement already satisfied: cycler>=0.10 in /usr/local/lib/python3.10/dist-packages (from matplotlib->catboost) (0.12.1)\n",
            "Requirement already satisfied: fonttools>=4.22.0 in /usr/local/lib/python3.10/dist-packages (from matplotlib->catboost) (4.55.3)\n",
            "Requirement already satisfied: kiwisolver>=1.0.1 in /usr/local/lib/python3.10/dist-packages (from matplotlib->catboost) (1.4.7)\n",
            "Requirement already satisfied: packaging>=20.0 in /usr/local/lib/python3.10/dist-packages (from matplotlib->catboost) (24.2)\n",
            "Requirement already satisfied: pillow>=6.2.0 in /usr/local/lib/python3.10/dist-packages (from matplotlib->catboost) (11.0.0)\n",
            "Requirement already satisfied: pyparsing>=2.3.1 in /usr/local/lib/python3.10/dist-packages (from matplotlib->catboost) (3.2.0)\n",
            "Requirement already satisfied: tenacity>=6.2.0 in /usr/local/lib/python3.10/dist-packages (from plotly->catboost) (9.0.0)\n",
            "Downloading catboost-1.2.7-cp310-cp310-manylinux2014_x86_64.whl (98.7 MB)\n",
            "\u001b[2K   \u001b[90m━━━━━━━━━━━━━━━━━━━━━━━━━━━━━━━━━━━━━━━━\u001b[0m \u001b[32m98.7/98.7 MB\u001b[0m \u001b[31m6.3 MB/s\u001b[0m eta \u001b[36m0:00:00\u001b[0m\n",
            "\u001b[?25hInstalling collected packages: catboost\n",
            "Successfully installed catboost-1.2.7\n"
          ]
        }
      ]
    },
    {
      "cell_type": "code",
      "source": [
        "pip install sklearn"
      ],
      "metadata": {
        "collapsed": true,
        "colab": {
          "base_uri": "https://localhost:8080/"
        },
        "id": "uDaDrliu0Xl-",
        "outputId": "f186af00-4247-4375-dcca-a68c760fb5ba"
      },
      "execution_count": null,
      "outputs": [
        {
          "output_type": "stream",
          "name": "stdout",
          "text": [
            "Collecting sklearn\n",
            "  Using cached sklearn-0.0.post12.tar.gz (2.6 kB)\n",
            "  \u001b[1;31merror\u001b[0m: \u001b[1msubprocess-exited-with-error\u001b[0m\n",
            "  \n",
            "  \u001b[31m×\u001b[0m \u001b[32mpython setup.py egg_info\u001b[0m did not run successfully.\n",
            "  \u001b[31m│\u001b[0m exit code: \u001b[1;36m1\u001b[0m\n",
            "  \u001b[31m╰─>\u001b[0m See above for output.\n",
            "  \n",
            "  \u001b[1;35mnote\u001b[0m: This error originates from a subprocess, and is likely not a problem with pip.\n",
            "  Preparing metadata (setup.py) ... \u001b[?25l\u001b[?25herror\n",
            "\u001b[1;31merror\u001b[0m: \u001b[1mmetadata-generation-failed\u001b[0m\n",
            "\n",
            "\u001b[31m×\u001b[0m Encountered error while generating package metadata.\n",
            "\u001b[31m╰─>\u001b[0m See above for output.\n",
            "\n",
            "\u001b[1;35mnote\u001b[0m: This is an issue with the package mentioned above, not pip.\n",
            "\u001b[1;36mhint\u001b[0m: See above for details.\n"
          ]
        }
      ]
    },
    {
      "cell_type": "code",
      "source": [
        "import pandas as pd\n",
        "import numpy as np\n",
        "import seaborn as sbn\n",
        "import matplotlib.pyplot as plt\n",
        "import datetime\n",
        "import calendar\n",
        "from matplotlib.ticker import PercentFormatter\n",
        "import geopandas as gpd\n",
        "import re\n",
        "import adjustText as aT\n",
        "from sklearn.ensemble import RandomForestClassifier\n",
        "from sklearn.preprocessing import StandardScaler\n",
        "from sklearn.model_selection import cross_validate\n",
        "from sklearn import metrics\n",
        "from catboost import CatBoostClassifier, Pool\n",
        "from sklearn.model_selection import train_test_split\n",
        "from catboost.utils import get_confusion_matrix\n",
        "from catboost import cv\n",
        "from sklearn.tree import export_graphviz\n",
        "from sklearn.metrics import confusion_matrix, ConfusionMatrixDisplay\n",
        "\n",
        "# Caminho do arquivo\n",
        "file_path = '/content/drive/MyDrive/SAD/Base_SAD.csv'\n",
        "\n",
        "try:\n",
        "    # Carregar CSV com delimitador correto, encoding e ignorando linhas problemáticas\n",
        "    df = pd.read_csv(file_path, delimiter=';', encoding='latin1', on_bad_lines='skip')\n",
        "\n",
        "    # Exibindo número de linhas e colunas para verificação\n",
        "    num_rows, num_cols = df.shape\n",
        "    print(\"Número de linhas:\", num_rows)\n",
        "    print(\"Número de colunas:\", num_cols)\n",
        "\n",
        "    # Exibindo as primeiras linhas do DataFrame\n",
        "    print(df.head())\n",
        "\n",
        "    # Prossiga com o restante das análises ou manipulações no DataFrame\n",
        "    # Exemplo: verificando informações básicas\n",
        "    print(\"Informações gerais sobre o DataFrame:\")\n",
        "    print(df.info())\n",
        "\n",
        "except Exception as e:\n",
        "    print(f\"Erro ao carregar o arquivo: {e}\")\n"
      ],
      "metadata": {
        "colab": {
          "base_uri": "https://localhost:8080/"
        },
        "id": "cLorQTcG0k7f",
        "outputId": "4459c0b5-01df-478e-b989-763d101ce49e",
        "collapsed": true
      },
      "execution_count": null,
      "outputs": [
        {
          "output_type": "stream",
          "name": "stdout",
          "text": [
            "Número de linhas: 9546\n",
            "Número de colunas: 8\n",
            "   Student ID Student Country  Question ID  Type of Answer Question Level  \\\n",
            "0         647         Ireland           77               0          Basic   \n",
            "1          41        Portugal           77               1          Basic   \n",
            "2         340        Portugal           77               1          Basic   \n",
            "3         641           Italy           77               0          Basic   \n",
            "4         669        Portugal           77               1          Basic   \n",
            "\n",
            "        Topic    Subtopic                                           Keywords  \n",
            "0  Statistics  Statistics  Stem and Leaf diagram,Relative frequency,Sampl...  \n",
            "1  Statistics  Statistics  Stem and Leaf diagram,Relative frequency,Sampl...  \n",
            "2  Statistics  Statistics  Stem and Leaf diagram,Relative frequency,Sampl...  \n",
            "3  Statistics  Statistics  Stem and Leaf diagram,Relative frequency,Sampl...  \n",
            "4  Statistics  Statistics  Stem and Leaf diagram,Relative frequency,Sampl...  \n",
            "Informações gerais sobre o DataFrame:\n",
            "<class 'pandas.core.frame.DataFrame'>\n",
            "RangeIndex: 9546 entries, 0 to 9545\n",
            "Data columns (total 8 columns):\n",
            " #   Column           Non-Null Count  Dtype \n",
            "---  ------           --------------  ----- \n",
            " 0   Student ID       9546 non-null   int64 \n",
            " 1   Student Country  9546 non-null   object\n",
            " 2   Question ID      9546 non-null   int64 \n",
            " 3   Type of Answer   9546 non-null   int64 \n",
            " 4   Question Level   9546 non-null   object\n",
            " 5   Topic            9546 non-null   object\n",
            " 6   Subtopic         9546 non-null   object\n",
            " 7   Keywords         9546 non-null   object\n",
            "dtypes: int64(3), object(5)\n",
            "memory usage: 596.8+ KB\n",
            "None\n"
          ]
        }
      ]
    },
    {
      "cell_type": "code",
      "source": [
        "import os\n",
        "\n",
        "# Obtendo o tamanho do arquivo em KB\n",
        "file_size_kb = os.path.getsize(file_path) / 1024\n",
        "print(\"Tamanho do arquivo (KB):\", file_size_kb)"
      ],
      "metadata": {
        "colab": {
          "base_uri": "https://localhost:8080/"
        },
        "id": "Jx1H4Q0Q16iu",
        "outputId": "ee2fee3e-55ec-460a-c02d-67b86f3c8288"
      },
      "execution_count": null,
      "outputs": [
        {
          "output_type": "stream",
          "name": "stdout",
          "text": [
            "Tamanho do arquivo (KB): 1032.6767578125\n"
          ]
        }
      ]
    },
    {
      "cell_type": "code",
      "source": [
        "df.info()  # Exibe informações sobre cada coluna e tipo de dado"
      ],
      "metadata": {
        "colab": {
          "base_uri": "https://localhost:8080/"
        },
        "id": "rj020b0W1720",
        "outputId": "63cc1859-f87f-4939-b1c9-331555a576c9",
        "collapsed": true
      },
      "execution_count": null,
      "outputs": [
        {
          "output_type": "stream",
          "name": "stdout",
          "text": [
            "<class 'pandas.core.frame.DataFrame'>\n",
            "RangeIndex: 9546 entries, 0 to 9545\n",
            "Data columns (total 8 columns):\n",
            " #   Column           Non-Null Count  Dtype \n",
            "---  ------           --------------  ----- \n",
            " 0   Student ID       9546 non-null   int64 \n",
            " 1   Student Country  9546 non-null   object\n",
            " 2   Question ID      9546 non-null   int64 \n",
            " 3   Type of Answer   9546 non-null   int64 \n",
            " 4   Question Level   9546 non-null   object\n",
            " 5   Topic            9546 non-null   object\n",
            " 6   Subtopic         9546 non-null   object\n",
            " 7   Keywords         9546 non-null   object\n",
            "dtypes: int64(3), object(5)\n",
            "memory usage: 596.8+ KB\n"
          ]
        }
      ]
    },
    {
      "cell_type": "code",
      "source": [
        "df.head()\n"
      ],
      "metadata": {
        "colab": {
          "base_uri": "https://localhost:8080/",
          "height": 206
        },
        "id": "vMeOCtBT2D5A",
        "outputId": "bf68e382-b301-4f18-f8e7-48755d8077ec"
      },
      "execution_count": null,
      "outputs": [
        {
          "output_type": "execute_result",
          "data": {
            "text/plain": [
              "   Student ID Student Country  Question ID  Type of Answer Question Level  \\\n",
              "0         647         Ireland           77               0          Basic   \n",
              "1          41        Portugal           77               1          Basic   \n",
              "2         340        Portugal           77               1          Basic   \n",
              "3         641           Italy           77               0          Basic   \n",
              "4         669        Portugal           77               1          Basic   \n",
              "\n",
              "        Topic    Subtopic                                           Keywords  \n",
              "0  Statistics  Statistics  Stem and Leaf diagram,Relative frequency,Sampl...  \n",
              "1  Statistics  Statistics  Stem and Leaf diagram,Relative frequency,Sampl...  \n",
              "2  Statistics  Statistics  Stem and Leaf diagram,Relative frequency,Sampl...  \n",
              "3  Statistics  Statistics  Stem and Leaf diagram,Relative frequency,Sampl...  \n",
              "4  Statistics  Statistics  Stem and Leaf diagram,Relative frequency,Sampl...  "
            ],
            "text/html": [
              "\n",
              "  <div id=\"df-e8ba5c7c-90da-401a-bb3d-80afb7603f8c\" class=\"colab-df-container\">\n",
              "    <div>\n",
              "<style scoped>\n",
              "    .dataframe tbody tr th:only-of-type {\n",
              "        vertical-align: middle;\n",
              "    }\n",
              "\n",
              "    .dataframe tbody tr th {\n",
              "        vertical-align: top;\n",
              "    }\n",
              "\n",
              "    .dataframe thead th {\n",
              "        text-align: right;\n",
              "    }\n",
              "</style>\n",
              "<table border=\"1\" class=\"dataframe\">\n",
              "  <thead>\n",
              "    <tr style=\"text-align: right;\">\n",
              "      <th></th>\n",
              "      <th>Student ID</th>\n",
              "      <th>Student Country</th>\n",
              "      <th>Question ID</th>\n",
              "      <th>Type of Answer</th>\n",
              "      <th>Question Level</th>\n",
              "      <th>Topic</th>\n",
              "      <th>Subtopic</th>\n",
              "      <th>Keywords</th>\n",
              "    </tr>\n",
              "  </thead>\n",
              "  <tbody>\n",
              "    <tr>\n",
              "      <th>0</th>\n",
              "      <td>647</td>\n",
              "      <td>Ireland</td>\n",
              "      <td>77</td>\n",
              "      <td>0</td>\n",
              "      <td>Basic</td>\n",
              "      <td>Statistics</td>\n",
              "      <td>Statistics</td>\n",
              "      <td>Stem and Leaf diagram,Relative frequency,Sampl...</td>\n",
              "    </tr>\n",
              "    <tr>\n",
              "      <th>1</th>\n",
              "      <td>41</td>\n",
              "      <td>Portugal</td>\n",
              "      <td>77</td>\n",
              "      <td>1</td>\n",
              "      <td>Basic</td>\n",
              "      <td>Statistics</td>\n",
              "      <td>Statistics</td>\n",
              "      <td>Stem and Leaf diagram,Relative frequency,Sampl...</td>\n",
              "    </tr>\n",
              "    <tr>\n",
              "      <th>2</th>\n",
              "      <td>340</td>\n",
              "      <td>Portugal</td>\n",
              "      <td>77</td>\n",
              "      <td>1</td>\n",
              "      <td>Basic</td>\n",
              "      <td>Statistics</td>\n",
              "      <td>Statistics</td>\n",
              "      <td>Stem and Leaf diagram,Relative frequency,Sampl...</td>\n",
              "    </tr>\n",
              "    <tr>\n",
              "      <th>3</th>\n",
              "      <td>641</td>\n",
              "      <td>Italy</td>\n",
              "      <td>77</td>\n",
              "      <td>0</td>\n",
              "      <td>Basic</td>\n",
              "      <td>Statistics</td>\n",
              "      <td>Statistics</td>\n",
              "      <td>Stem and Leaf diagram,Relative frequency,Sampl...</td>\n",
              "    </tr>\n",
              "    <tr>\n",
              "      <th>4</th>\n",
              "      <td>669</td>\n",
              "      <td>Portugal</td>\n",
              "      <td>77</td>\n",
              "      <td>1</td>\n",
              "      <td>Basic</td>\n",
              "      <td>Statistics</td>\n",
              "      <td>Statistics</td>\n",
              "      <td>Stem and Leaf diagram,Relative frequency,Sampl...</td>\n",
              "    </tr>\n",
              "  </tbody>\n",
              "</table>\n",
              "</div>\n",
              "    <div class=\"colab-df-buttons\">\n",
              "\n",
              "  <div class=\"colab-df-container\">\n",
              "    <button class=\"colab-df-convert\" onclick=\"convertToInteractive('df-e8ba5c7c-90da-401a-bb3d-80afb7603f8c')\"\n",
              "            title=\"Convert this dataframe to an interactive table.\"\n",
              "            style=\"display:none;\">\n",
              "\n",
              "  <svg xmlns=\"http://www.w3.org/2000/svg\" height=\"24px\" viewBox=\"0 -960 960 960\">\n",
              "    <path d=\"M120-120v-720h720v720H120Zm60-500h600v-160H180v160Zm220 220h160v-160H400v160Zm0 220h160v-160H400v160ZM180-400h160v-160H180v160Zm440 0h160v-160H620v160ZM180-180h160v-160H180v160Zm440 0h160v-160H620v160Z\"/>\n",
              "  </svg>\n",
              "    </button>\n",
              "\n",
              "  <style>\n",
              "    .colab-df-container {\n",
              "      display:flex;\n",
              "      gap: 12px;\n",
              "    }\n",
              "\n",
              "    .colab-df-convert {\n",
              "      background-color: #E8F0FE;\n",
              "      border: none;\n",
              "      border-radius: 50%;\n",
              "      cursor: pointer;\n",
              "      display: none;\n",
              "      fill: #1967D2;\n",
              "      height: 32px;\n",
              "      padding: 0 0 0 0;\n",
              "      width: 32px;\n",
              "    }\n",
              "\n",
              "    .colab-df-convert:hover {\n",
              "      background-color: #E2EBFA;\n",
              "      box-shadow: 0px 1px 2px rgba(60, 64, 67, 0.3), 0px 1px 3px 1px rgba(60, 64, 67, 0.15);\n",
              "      fill: #174EA6;\n",
              "    }\n",
              "\n",
              "    .colab-df-buttons div {\n",
              "      margin-bottom: 4px;\n",
              "    }\n",
              "\n",
              "    [theme=dark] .colab-df-convert {\n",
              "      background-color: #3B4455;\n",
              "      fill: #D2E3FC;\n",
              "    }\n",
              "\n",
              "    [theme=dark] .colab-df-convert:hover {\n",
              "      background-color: #434B5C;\n",
              "      box-shadow: 0px 1px 3px 1px rgba(0, 0, 0, 0.15);\n",
              "      filter: drop-shadow(0px 1px 2px rgba(0, 0, 0, 0.3));\n",
              "      fill: #FFFFFF;\n",
              "    }\n",
              "  </style>\n",
              "\n",
              "    <script>\n",
              "      const buttonEl =\n",
              "        document.querySelector('#df-e8ba5c7c-90da-401a-bb3d-80afb7603f8c button.colab-df-convert');\n",
              "      buttonEl.style.display =\n",
              "        google.colab.kernel.accessAllowed ? 'block' : 'none';\n",
              "\n",
              "      async function convertToInteractive(key) {\n",
              "        const element = document.querySelector('#df-e8ba5c7c-90da-401a-bb3d-80afb7603f8c');\n",
              "        const dataTable =\n",
              "          await google.colab.kernel.invokeFunction('convertToInteractive',\n",
              "                                                    [key], {});\n",
              "        if (!dataTable) return;\n",
              "\n",
              "        const docLinkHtml = 'Like what you see? Visit the ' +\n",
              "          '<a target=\"_blank\" href=https://colab.research.google.com/notebooks/data_table.ipynb>data table notebook</a>'\n",
              "          + ' to learn more about interactive tables.';\n",
              "        element.innerHTML = '';\n",
              "        dataTable['output_type'] = 'display_data';\n",
              "        await google.colab.output.renderOutput(dataTable, element);\n",
              "        const docLink = document.createElement('div');\n",
              "        docLink.innerHTML = docLinkHtml;\n",
              "        element.appendChild(docLink);\n",
              "      }\n",
              "    </script>\n",
              "  </div>\n",
              "\n",
              "\n",
              "<div id=\"df-43224e3a-6b01-4f69-a36c-1c7097dea620\">\n",
              "  <button class=\"colab-df-quickchart\" onclick=\"quickchart('df-43224e3a-6b01-4f69-a36c-1c7097dea620')\"\n",
              "            title=\"Suggest charts\"\n",
              "            style=\"display:none;\">\n",
              "\n",
              "<svg xmlns=\"http://www.w3.org/2000/svg\" height=\"24px\"viewBox=\"0 0 24 24\"\n",
              "     width=\"24px\">\n",
              "    <g>\n",
              "        <path d=\"M19 3H5c-1.1 0-2 .9-2 2v14c0 1.1.9 2 2 2h14c1.1 0 2-.9 2-2V5c0-1.1-.9-2-2-2zM9 17H7v-7h2v7zm4 0h-2V7h2v10zm4 0h-2v-4h2v4z\"/>\n",
              "    </g>\n",
              "</svg>\n",
              "  </button>\n",
              "\n",
              "<style>\n",
              "  .colab-df-quickchart {\n",
              "      --bg-color: #E8F0FE;\n",
              "      --fill-color: #1967D2;\n",
              "      --hover-bg-color: #E2EBFA;\n",
              "      --hover-fill-color: #174EA6;\n",
              "      --disabled-fill-color: #AAA;\n",
              "      --disabled-bg-color: #DDD;\n",
              "  }\n",
              "\n",
              "  [theme=dark] .colab-df-quickchart {\n",
              "      --bg-color: #3B4455;\n",
              "      --fill-color: #D2E3FC;\n",
              "      --hover-bg-color: #434B5C;\n",
              "      --hover-fill-color: #FFFFFF;\n",
              "      --disabled-bg-color: #3B4455;\n",
              "      --disabled-fill-color: #666;\n",
              "  }\n",
              "\n",
              "  .colab-df-quickchart {\n",
              "    background-color: var(--bg-color);\n",
              "    border: none;\n",
              "    border-radius: 50%;\n",
              "    cursor: pointer;\n",
              "    display: none;\n",
              "    fill: var(--fill-color);\n",
              "    height: 32px;\n",
              "    padding: 0;\n",
              "    width: 32px;\n",
              "  }\n",
              "\n",
              "  .colab-df-quickchart:hover {\n",
              "    background-color: var(--hover-bg-color);\n",
              "    box-shadow: 0 1px 2px rgba(60, 64, 67, 0.3), 0 1px 3px 1px rgba(60, 64, 67, 0.15);\n",
              "    fill: var(--button-hover-fill-color);\n",
              "  }\n",
              "\n",
              "  .colab-df-quickchart-complete:disabled,\n",
              "  .colab-df-quickchart-complete:disabled:hover {\n",
              "    background-color: var(--disabled-bg-color);\n",
              "    fill: var(--disabled-fill-color);\n",
              "    box-shadow: none;\n",
              "  }\n",
              "\n",
              "  .colab-df-spinner {\n",
              "    border: 2px solid var(--fill-color);\n",
              "    border-color: transparent;\n",
              "    border-bottom-color: var(--fill-color);\n",
              "    animation:\n",
              "      spin 1s steps(1) infinite;\n",
              "  }\n",
              "\n",
              "  @keyframes spin {\n",
              "    0% {\n",
              "      border-color: transparent;\n",
              "      border-bottom-color: var(--fill-color);\n",
              "      border-left-color: var(--fill-color);\n",
              "    }\n",
              "    20% {\n",
              "      border-color: transparent;\n",
              "      border-left-color: var(--fill-color);\n",
              "      border-top-color: var(--fill-color);\n",
              "    }\n",
              "    30% {\n",
              "      border-color: transparent;\n",
              "      border-left-color: var(--fill-color);\n",
              "      border-top-color: var(--fill-color);\n",
              "      border-right-color: var(--fill-color);\n",
              "    }\n",
              "    40% {\n",
              "      border-color: transparent;\n",
              "      border-right-color: var(--fill-color);\n",
              "      border-top-color: var(--fill-color);\n",
              "    }\n",
              "    60% {\n",
              "      border-color: transparent;\n",
              "      border-right-color: var(--fill-color);\n",
              "    }\n",
              "    80% {\n",
              "      border-color: transparent;\n",
              "      border-right-color: var(--fill-color);\n",
              "      border-bottom-color: var(--fill-color);\n",
              "    }\n",
              "    90% {\n",
              "      border-color: transparent;\n",
              "      border-bottom-color: var(--fill-color);\n",
              "    }\n",
              "  }\n",
              "</style>\n",
              "\n",
              "  <script>\n",
              "    async function quickchart(key) {\n",
              "      const quickchartButtonEl =\n",
              "        document.querySelector('#' + key + ' button');\n",
              "      quickchartButtonEl.disabled = true;  // To prevent multiple clicks.\n",
              "      quickchartButtonEl.classList.add('colab-df-spinner');\n",
              "      try {\n",
              "        const charts = await google.colab.kernel.invokeFunction(\n",
              "            'suggestCharts', [key], {});\n",
              "      } catch (error) {\n",
              "        console.error('Error during call to suggestCharts:', error);\n",
              "      }\n",
              "      quickchartButtonEl.classList.remove('colab-df-spinner');\n",
              "      quickchartButtonEl.classList.add('colab-df-quickchart-complete');\n",
              "    }\n",
              "    (() => {\n",
              "      let quickchartButtonEl =\n",
              "        document.querySelector('#df-43224e3a-6b01-4f69-a36c-1c7097dea620 button');\n",
              "      quickchartButtonEl.style.display =\n",
              "        google.colab.kernel.accessAllowed ? 'block' : 'none';\n",
              "    })();\n",
              "  </script>\n",
              "</div>\n",
              "\n",
              "    </div>\n",
              "  </div>\n"
            ],
            "application/vnd.google.colaboratory.intrinsic+json": {
              "type": "dataframe",
              "variable_name": "df",
              "summary": "{\n  \"name\": \"df\",\n  \"rows\": 9546,\n  \"fields\": [\n    {\n      \"column\": \"Student ID\",\n      \"properties\": {\n        \"dtype\": \"number\",\n        \"std\": 460,\n        \"min\": 26,\n        \"max\": 1565,\n        \"num_unique_values\": 372,\n        \"samples\": [\n          85,\n          659,\n          725\n        ],\n        \"semantic_type\": \"\",\n        \"description\": \"\"\n      }\n    },\n    {\n      \"column\": \"Student Country\",\n      \"properties\": {\n        \"dtype\": \"category\",\n        \"num_unique_values\": 8,\n        \"samples\": [\n          \"Portugal\",\n          \"Russian Federation\",\n          \"Ireland\"\n        ],\n        \"semantic_type\": \"\",\n        \"description\": \"\"\n      }\n    },\n    {\n      \"column\": \"Question ID\",\n      \"properties\": {\n        \"dtype\": \"number\",\n        \"std\": 249,\n        \"min\": 77,\n        \"max\": 1549,\n        \"num_unique_values\": 833,\n        \"samples\": [\n          867,\n          1481,\n          434\n        ],\n        \"semantic_type\": \"\",\n        \"description\": \"\"\n      }\n    },\n    {\n      \"column\": \"Type of Answer\",\n      \"properties\": {\n        \"dtype\": \"number\",\n        \"std\": 0,\n        \"min\": 0,\n        \"max\": 1,\n        \"num_unique_values\": 2,\n        \"samples\": [\n          1,\n          0\n        ],\n        \"semantic_type\": \"\",\n        \"description\": \"\"\n      }\n    },\n    {\n      \"column\": \"Question Level\",\n      \"properties\": {\n        \"dtype\": \"category\",\n        \"num_unique_values\": 2,\n        \"samples\": [\n          \"Advanced\",\n          \"Basic\"\n        ],\n        \"semantic_type\": \"\",\n        \"description\": \"\"\n      }\n    },\n    {\n      \"column\": \"Topic\",\n      \"properties\": {\n        \"dtype\": \"category\",\n        \"num_unique_values\": 14,\n        \"samples\": [\n          \"Complex Numbers\",\n          \"Analytic Geometry\"\n        ],\n        \"semantic_type\": \"\",\n        \"description\": \"\"\n      }\n    },\n    {\n      \"column\": \"Subtopic\",\n      \"properties\": {\n        \"dtype\": \"category\",\n        \"num_unique_values\": 24,\n        \"samples\": [\n          \"Partial Differentiation\",\n          \"Graph Theory\"\n        ],\n        \"semantic_type\": \"\",\n        \"description\": \"\"\n      }\n    },\n    {\n      \"column\": \"Keywords\",\n      \"properties\": {\n        \"dtype\": \"category\",\n        \"num_unique_values\": 365,\n        \"samples\": [\n          \"Polygons,Regular polygon\",\n          \"Trigonometric rules,Logarithmic rule\"\n        ],\n        \"semantic_type\": \"\",\n        \"description\": \"\"\n      }\n    }\n  ]\n}"
            }
          },
          "metadata": {},
          "execution_count": 13
        }
      ]
    },
    {
      "cell_type": "code",
      "source": [
        "df.dtypes\n"
      ],
      "metadata": {
        "colab": {
          "base_uri": "https://localhost:8080/",
          "height": 335
        },
        "id": "ZvT10S1v2IVE",
        "outputId": "e79f7a57-87ff-449c-b91c-f979f89d4e3d",
        "collapsed": true
      },
      "execution_count": null,
      "outputs": [
        {
          "output_type": "execute_result",
          "data": {
            "text/plain": [
              "Student ID          int64\n",
              "Student Country    object\n",
              "Question ID         int64\n",
              "Type of Answer      int64\n",
              "Question Level     object\n",
              "Topic              object\n",
              "Subtopic           object\n",
              "Keywords           object\n",
              "dtype: object"
            ],
            "text/html": [
              "<div>\n",
              "<style scoped>\n",
              "    .dataframe tbody tr th:only-of-type {\n",
              "        vertical-align: middle;\n",
              "    }\n",
              "\n",
              "    .dataframe tbody tr th {\n",
              "        vertical-align: top;\n",
              "    }\n",
              "\n",
              "    .dataframe thead th {\n",
              "        text-align: right;\n",
              "    }\n",
              "</style>\n",
              "<table border=\"1\" class=\"dataframe\">\n",
              "  <thead>\n",
              "    <tr style=\"text-align: right;\">\n",
              "      <th></th>\n",
              "      <th>0</th>\n",
              "    </tr>\n",
              "  </thead>\n",
              "  <tbody>\n",
              "    <tr>\n",
              "      <th>Student ID</th>\n",
              "      <td>int64</td>\n",
              "    </tr>\n",
              "    <tr>\n",
              "      <th>Student Country</th>\n",
              "      <td>object</td>\n",
              "    </tr>\n",
              "    <tr>\n",
              "      <th>Question ID</th>\n",
              "      <td>int64</td>\n",
              "    </tr>\n",
              "    <tr>\n",
              "      <th>Type of Answer</th>\n",
              "      <td>int64</td>\n",
              "    </tr>\n",
              "    <tr>\n",
              "      <th>Question Level</th>\n",
              "      <td>object</td>\n",
              "    </tr>\n",
              "    <tr>\n",
              "      <th>Topic</th>\n",
              "      <td>object</td>\n",
              "    </tr>\n",
              "    <tr>\n",
              "      <th>Subtopic</th>\n",
              "      <td>object</td>\n",
              "    </tr>\n",
              "    <tr>\n",
              "      <th>Keywords</th>\n",
              "      <td>object</td>\n",
              "    </tr>\n",
              "  </tbody>\n",
              "</table>\n",
              "</div><br><label><b>dtype:</b> object</label>"
            ]
          },
          "metadata": {},
          "execution_count": 14
        }
      ]
    },
    {
      "cell_type": "code",
      "source": [
        "df.describe()"
      ],
      "metadata": {
        "colab": {
          "base_uri": "https://localhost:8080/",
          "height": 300
        },
        "id": "z4EXsQU62TvY",
        "outputId": "35a96bda-eac1-4d15-cc92-a19cae09d460",
        "collapsed": true
      },
      "execution_count": null,
      "outputs": [
        {
          "output_type": "execute_result",
          "data": {
            "text/plain": [
              "        Student ID  Question ID  Type of Answer\n",
              "count  9546.000000  9546.000000     9546.000000\n",
              "mean    775.402263   478.912319        0.468259\n",
              "std     460.590559   249.244061        0.499018\n",
              "min      26.000000    77.000000        0.000000\n",
              "25%     380.000000   323.000000        0.000000\n",
              "50%     885.000000   428.000000        0.000000\n",
              "75%    1219.000000   571.000000        1.000000\n",
              "max    1565.000000  1549.000000        1.000000"
            ],
            "text/html": [
              "\n",
              "  <div id=\"df-e858663e-6d2b-4c0a-8d28-6ad9acef0600\" class=\"colab-df-container\">\n",
              "    <div>\n",
              "<style scoped>\n",
              "    .dataframe tbody tr th:only-of-type {\n",
              "        vertical-align: middle;\n",
              "    }\n",
              "\n",
              "    .dataframe tbody tr th {\n",
              "        vertical-align: top;\n",
              "    }\n",
              "\n",
              "    .dataframe thead th {\n",
              "        text-align: right;\n",
              "    }\n",
              "</style>\n",
              "<table border=\"1\" class=\"dataframe\">\n",
              "  <thead>\n",
              "    <tr style=\"text-align: right;\">\n",
              "      <th></th>\n",
              "      <th>Student ID</th>\n",
              "      <th>Question ID</th>\n",
              "      <th>Type of Answer</th>\n",
              "    </tr>\n",
              "  </thead>\n",
              "  <tbody>\n",
              "    <tr>\n",
              "      <th>count</th>\n",
              "      <td>9546.000000</td>\n",
              "      <td>9546.000000</td>\n",
              "      <td>9546.000000</td>\n",
              "    </tr>\n",
              "    <tr>\n",
              "      <th>mean</th>\n",
              "      <td>775.402263</td>\n",
              "      <td>478.912319</td>\n",
              "      <td>0.468259</td>\n",
              "    </tr>\n",
              "    <tr>\n",
              "      <th>std</th>\n",
              "      <td>460.590559</td>\n",
              "      <td>249.244061</td>\n",
              "      <td>0.499018</td>\n",
              "    </tr>\n",
              "    <tr>\n",
              "      <th>min</th>\n",
              "      <td>26.000000</td>\n",
              "      <td>77.000000</td>\n",
              "      <td>0.000000</td>\n",
              "    </tr>\n",
              "    <tr>\n",
              "      <th>25%</th>\n",
              "      <td>380.000000</td>\n",
              "      <td>323.000000</td>\n",
              "      <td>0.000000</td>\n",
              "    </tr>\n",
              "    <tr>\n",
              "      <th>50%</th>\n",
              "      <td>885.000000</td>\n",
              "      <td>428.000000</td>\n",
              "      <td>0.000000</td>\n",
              "    </tr>\n",
              "    <tr>\n",
              "      <th>75%</th>\n",
              "      <td>1219.000000</td>\n",
              "      <td>571.000000</td>\n",
              "      <td>1.000000</td>\n",
              "    </tr>\n",
              "    <tr>\n",
              "      <th>max</th>\n",
              "      <td>1565.000000</td>\n",
              "      <td>1549.000000</td>\n",
              "      <td>1.000000</td>\n",
              "    </tr>\n",
              "  </tbody>\n",
              "</table>\n",
              "</div>\n",
              "    <div class=\"colab-df-buttons\">\n",
              "\n",
              "  <div class=\"colab-df-container\">\n",
              "    <button class=\"colab-df-convert\" onclick=\"convertToInteractive('df-e858663e-6d2b-4c0a-8d28-6ad9acef0600')\"\n",
              "            title=\"Convert this dataframe to an interactive table.\"\n",
              "            style=\"display:none;\">\n",
              "\n",
              "  <svg xmlns=\"http://www.w3.org/2000/svg\" height=\"24px\" viewBox=\"0 -960 960 960\">\n",
              "    <path d=\"M120-120v-720h720v720H120Zm60-500h600v-160H180v160Zm220 220h160v-160H400v160Zm0 220h160v-160H400v160ZM180-400h160v-160H180v160Zm440 0h160v-160H620v160ZM180-180h160v-160H180v160Zm440 0h160v-160H620v160Z\"/>\n",
              "  </svg>\n",
              "    </button>\n",
              "\n",
              "  <style>\n",
              "    .colab-df-container {\n",
              "      display:flex;\n",
              "      gap: 12px;\n",
              "    }\n",
              "\n",
              "    .colab-df-convert {\n",
              "      background-color: #E8F0FE;\n",
              "      border: none;\n",
              "      border-radius: 50%;\n",
              "      cursor: pointer;\n",
              "      display: none;\n",
              "      fill: #1967D2;\n",
              "      height: 32px;\n",
              "      padding: 0 0 0 0;\n",
              "      width: 32px;\n",
              "    }\n",
              "\n",
              "    .colab-df-convert:hover {\n",
              "      background-color: #E2EBFA;\n",
              "      box-shadow: 0px 1px 2px rgba(60, 64, 67, 0.3), 0px 1px 3px 1px rgba(60, 64, 67, 0.15);\n",
              "      fill: #174EA6;\n",
              "    }\n",
              "\n",
              "    .colab-df-buttons div {\n",
              "      margin-bottom: 4px;\n",
              "    }\n",
              "\n",
              "    [theme=dark] .colab-df-convert {\n",
              "      background-color: #3B4455;\n",
              "      fill: #D2E3FC;\n",
              "    }\n",
              "\n",
              "    [theme=dark] .colab-df-convert:hover {\n",
              "      background-color: #434B5C;\n",
              "      box-shadow: 0px 1px 3px 1px rgba(0, 0, 0, 0.15);\n",
              "      filter: drop-shadow(0px 1px 2px rgba(0, 0, 0, 0.3));\n",
              "      fill: #FFFFFF;\n",
              "    }\n",
              "  </style>\n",
              "\n",
              "    <script>\n",
              "      const buttonEl =\n",
              "        document.querySelector('#df-e858663e-6d2b-4c0a-8d28-6ad9acef0600 button.colab-df-convert');\n",
              "      buttonEl.style.display =\n",
              "        google.colab.kernel.accessAllowed ? 'block' : 'none';\n",
              "\n",
              "      async function convertToInteractive(key) {\n",
              "        const element = document.querySelector('#df-e858663e-6d2b-4c0a-8d28-6ad9acef0600');\n",
              "        const dataTable =\n",
              "          await google.colab.kernel.invokeFunction('convertToInteractive',\n",
              "                                                    [key], {});\n",
              "        if (!dataTable) return;\n",
              "\n",
              "        const docLinkHtml = 'Like what you see? Visit the ' +\n",
              "          '<a target=\"_blank\" href=https://colab.research.google.com/notebooks/data_table.ipynb>data table notebook</a>'\n",
              "          + ' to learn more about interactive tables.';\n",
              "        element.innerHTML = '';\n",
              "        dataTable['output_type'] = 'display_data';\n",
              "        await google.colab.output.renderOutput(dataTable, element);\n",
              "        const docLink = document.createElement('div');\n",
              "        docLink.innerHTML = docLinkHtml;\n",
              "        element.appendChild(docLink);\n",
              "      }\n",
              "    </script>\n",
              "  </div>\n",
              "\n",
              "\n",
              "<div id=\"df-d8b9cfa1-b307-4030-b451-50aa4f948b4c\">\n",
              "  <button class=\"colab-df-quickchart\" onclick=\"quickchart('df-d8b9cfa1-b307-4030-b451-50aa4f948b4c')\"\n",
              "            title=\"Suggest charts\"\n",
              "            style=\"display:none;\">\n",
              "\n",
              "<svg xmlns=\"http://www.w3.org/2000/svg\" height=\"24px\"viewBox=\"0 0 24 24\"\n",
              "     width=\"24px\">\n",
              "    <g>\n",
              "        <path d=\"M19 3H5c-1.1 0-2 .9-2 2v14c0 1.1.9 2 2 2h14c1.1 0 2-.9 2-2V5c0-1.1-.9-2-2-2zM9 17H7v-7h2v7zm4 0h-2V7h2v10zm4 0h-2v-4h2v4z\"/>\n",
              "    </g>\n",
              "</svg>\n",
              "  </button>\n",
              "\n",
              "<style>\n",
              "  .colab-df-quickchart {\n",
              "      --bg-color: #E8F0FE;\n",
              "      --fill-color: #1967D2;\n",
              "      --hover-bg-color: #E2EBFA;\n",
              "      --hover-fill-color: #174EA6;\n",
              "      --disabled-fill-color: #AAA;\n",
              "      --disabled-bg-color: #DDD;\n",
              "  }\n",
              "\n",
              "  [theme=dark] .colab-df-quickchart {\n",
              "      --bg-color: #3B4455;\n",
              "      --fill-color: #D2E3FC;\n",
              "      --hover-bg-color: #434B5C;\n",
              "      --hover-fill-color: #FFFFFF;\n",
              "      --disabled-bg-color: #3B4455;\n",
              "      --disabled-fill-color: #666;\n",
              "  }\n",
              "\n",
              "  .colab-df-quickchart {\n",
              "    background-color: var(--bg-color);\n",
              "    border: none;\n",
              "    border-radius: 50%;\n",
              "    cursor: pointer;\n",
              "    display: none;\n",
              "    fill: var(--fill-color);\n",
              "    height: 32px;\n",
              "    padding: 0;\n",
              "    width: 32px;\n",
              "  }\n",
              "\n",
              "  .colab-df-quickchart:hover {\n",
              "    background-color: var(--hover-bg-color);\n",
              "    box-shadow: 0 1px 2px rgba(60, 64, 67, 0.3), 0 1px 3px 1px rgba(60, 64, 67, 0.15);\n",
              "    fill: var(--button-hover-fill-color);\n",
              "  }\n",
              "\n",
              "  .colab-df-quickchart-complete:disabled,\n",
              "  .colab-df-quickchart-complete:disabled:hover {\n",
              "    background-color: var(--disabled-bg-color);\n",
              "    fill: var(--disabled-fill-color);\n",
              "    box-shadow: none;\n",
              "  }\n",
              "\n",
              "  .colab-df-spinner {\n",
              "    border: 2px solid var(--fill-color);\n",
              "    border-color: transparent;\n",
              "    border-bottom-color: var(--fill-color);\n",
              "    animation:\n",
              "      spin 1s steps(1) infinite;\n",
              "  }\n",
              "\n",
              "  @keyframes spin {\n",
              "    0% {\n",
              "      border-color: transparent;\n",
              "      border-bottom-color: var(--fill-color);\n",
              "      border-left-color: var(--fill-color);\n",
              "    }\n",
              "    20% {\n",
              "      border-color: transparent;\n",
              "      border-left-color: var(--fill-color);\n",
              "      border-top-color: var(--fill-color);\n",
              "    }\n",
              "    30% {\n",
              "      border-color: transparent;\n",
              "      border-left-color: var(--fill-color);\n",
              "      border-top-color: var(--fill-color);\n",
              "      border-right-color: var(--fill-color);\n",
              "    }\n",
              "    40% {\n",
              "      border-color: transparent;\n",
              "      border-right-color: var(--fill-color);\n",
              "      border-top-color: var(--fill-color);\n",
              "    }\n",
              "    60% {\n",
              "      border-color: transparent;\n",
              "      border-right-color: var(--fill-color);\n",
              "    }\n",
              "    80% {\n",
              "      border-color: transparent;\n",
              "      border-right-color: var(--fill-color);\n",
              "      border-bottom-color: var(--fill-color);\n",
              "    }\n",
              "    90% {\n",
              "      border-color: transparent;\n",
              "      border-bottom-color: var(--fill-color);\n",
              "    }\n",
              "  }\n",
              "</style>\n",
              "\n",
              "  <script>\n",
              "    async function quickchart(key) {\n",
              "      const quickchartButtonEl =\n",
              "        document.querySelector('#' + key + ' button');\n",
              "      quickchartButtonEl.disabled = true;  // To prevent multiple clicks.\n",
              "      quickchartButtonEl.classList.add('colab-df-spinner');\n",
              "      try {\n",
              "        const charts = await google.colab.kernel.invokeFunction(\n",
              "            'suggestCharts', [key], {});\n",
              "      } catch (error) {\n",
              "        console.error('Error during call to suggestCharts:', error);\n",
              "      }\n",
              "      quickchartButtonEl.classList.remove('colab-df-spinner');\n",
              "      quickchartButtonEl.classList.add('colab-df-quickchart-complete');\n",
              "    }\n",
              "    (() => {\n",
              "      let quickchartButtonEl =\n",
              "        document.querySelector('#df-d8b9cfa1-b307-4030-b451-50aa4f948b4c button');\n",
              "      quickchartButtonEl.style.display =\n",
              "        google.colab.kernel.accessAllowed ? 'block' : 'none';\n",
              "    })();\n",
              "  </script>\n",
              "</div>\n",
              "\n",
              "    </div>\n",
              "  </div>\n"
            ],
            "application/vnd.google.colaboratory.intrinsic+json": {
              "type": "dataframe",
              "summary": "{\n  \"name\": \"df\",\n  \"rows\": 8,\n  \"fields\": [\n    {\n      \"column\": \"Student ID\",\n      \"properties\": {\n        \"dtype\": \"number\",\n        \"std\": 3144.4217244526326,\n        \"min\": 26.0,\n        \"max\": 9546.0,\n        \"num_unique_values\": 8,\n        \"samples\": [\n          775.4022627278441,\n          885.0,\n          9546.0\n        ],\n        \"semantic_type\": \"\",\n        \"description\": \"\"\n      }\n    },\n    {\n      \"column\": \"Question ID\",\n      \"properties\": {\n        \"dtype\": \"number\",\n        \"std\": 3220.0998696175734,\n        \"min\": 77.0,\n        \"max\": 9546.0,\n        \"num_unique_values\": 8,\n        \"samples\": [\n          478.9123192960402,\n          428.0,\n          9546.0\n        ],\n        \"semantic_type\": \"\",\n        \"description\": \"\"\n      }\n    },\n    {\n      \"column\": \"Type of Answer\",\n      \"properties\": {\n        \"dtype\": \"number\",\n        \"std\": 3374.8708221231286,\n        \"min\": 0.0,\n        \"max\": 9546.0,\n        \"num_unique_values\": 5,\n        \"samples\": [\n          0.46825895663104966,\n          1.0,\n          0.4990176272811255\n        ],\n        \"semantic_type\": \"\",\n        \"description\": \"\"\n      }\n    }\n  ]\n}"
            }
          },
          "metadata": {},
          "execution_count": 15
        }
      ]
    },
    {
      "cell_type": "code",
      "source": [
        "\n",
        "file_path = '/content/drive/MyDrive/SAD/Base_SAD.csv'\n",
        "\n",
        "try:\n",
        "    # Carregando os dados no DataFrame goldprice\n",
        "    MathE= pd.read_csv(file_path, delimiter=';', encoding='latin1', on_bad_lines='skip')  # Ajuste o delimitador e encoding\n",
        "\n",
        "    # Verificando valores nulos\n",
        "    print(\"Valores nulos por coluna:\")\n",
        "    print(MathE.isnull().sum())  # Retorna a soma de valores nulos por coluna\n",
        "\n",
        "    # Exibindo as 5 primeiras linhas para verificar o carregamento\n",
        "    print(\"\\nPrimeiras linhas do DataFrame:\")\n",
        "    print(MathE.head())\n",
        "except Exception as e:\n",
        "    print(f\"Erro ao carregar os dados: {e}\")\n",
        "\n"
      ],
      "metadata": {
        "colab": {
          "base_uri": "https://localhost:8080/"
        },
        "id": "I5VXLTx-3bZg",
        "outputId": "6df238b7-6ec7-4f8a-a9bd-d5bee999c610"
      },
      "execution_count": null,
      "outputs": [
        {
          "output_type": "stream",
          "name": "stdout",
          "text": [
            "Valores nulos por coluna:\n",
            "Student ID         0\n",
            "Student Country    0\n",
            "Question ID        0\n",
            "Type of Answer     0\n",
            "Question Level     0\n",
            "Topic              0\n",
            "Subtopic           0\n",
            "Keywords           0\n",
            "dtype: int64\n",
            "\n",
            "Primeiras linhas do DataFrame:\n",
            "   Student ID Student Country  Question ID  Type of Answer Question Level  \\\n",
            "0         647         Ireland           77               0          Basic   \n",
            "1          41        Portugal           77               1          Basic   \n",
            "2         340        Portugal           77               1          Basic   \n",
            "3         641           Italy           77               0          Basic   \n",
            "4         669        Portugal           77               1          Basic   \n",
            "\n",
            "        Topic    Subtopic                                           Keywords  \n",
            "0  Statistics  Statistics  Stem and Leaf diagram,Relative frequency,Sampl...  \n",
            "1  Statistics  Statistics  Stem and Leaf diagram,Relative frequency,Sampl...  \n",
            "2  Statistics  Statistics  Stem and Leaf diagram,Relative frequency,Sampl...  \n",
            "3  Statistics  Statistics  Stem and Leaf diagram,Relative frequency,Sampl...  \n",
            "4  Statistics  Statistics  Stem and Leaf diagram,Relative frequency,Sampl...  \n"
          ]
        }
      ]
    },
    {
      "cell_type": "code",
      "source": [
        "\n",
        "sbn.boxplot(x=MathE['Student ID'])\n",
        "\n",
        "# Exibir o gráfico\n",
        "plt.show()\n"
      ],
      "metadata": {
        "colab": {
          "base_uri": "https://localhost:8080/",
          "height": 449
        },
        "id": "_aFTK7jV4jo6",
        "outputId": "49150537-589c-471a-c52d-922e95d64084"
      },
      "execution_count": null,
      "outputs": [
        {
          "output_type": "display_data",
          "data": {
            "text/plain": [
              "<Figure size 640x480 with 1 Axes>"
            ],
            "image/png": "[encoded data removed]"
          },
          "metadata": {}
        }
      ]
    },
    {
      "cell_type": "code",
      "source": [
        "sbn.boxplot(x=MathE['Question ID'])\n",
        "\n",
        "# Exibir o gráfico\n",
        "plt.show()"
      ],
      "metadata": {
        "colab": {
          "base_uri": "https://localhost:8080/",
          "height": 449
        },
        "id": "JwOBiWmO6EQk",
        "outputId": "3cf6fa91-3663-46bb-e785-30b824d7e4d7"
      },
      "execution_count": null,
      "outputs": [
        {
          "output_type": "display_data",
          "data": {
            "text/plain": [
              "<Figure size 640x480 with 1 Axes>"
            ],
            "image/png": "[encoded data removed]"
          },
          "metadata": {}
        }
      ]
    },
    {
      "cell_type": "code",
      "source": [
        "sbn.boxplot(x=MathE['Type of Answer'])\n",
        "\n",
        "# Exibir o gráfico\n",
        "plt.show()"
      ],
      "metadata": {
        "colab": {
          "base_uri": "https://localhost:8080/",
          "height": 449
        },
        "id": "Q6Rtdgm56Mwv",
        "outputId": "55fb656e-7466-409a-fafa-1b632757de7e"
      },
      "execution_count": null,
      "outputs": [
        {
          "output_type": "display_data",
          "data": {
            "text/plain": [
              "<Figure size 640x480 with 1 Axes>"
            ],
            "image/png": "[encoded data removed]"
          },
          "metadata": {}
        }
      ]
    },
    {
      "cell_type": "code",
      "source": [
        "# Selecionar apenas as colunas numéricas do DataFrame\n",
        "df_numerico = df.select_dtypes(include=[np.number])\n",
        "\n",
        "# Calcular a correlação\n",
        "correlacao = df_numerico.corr()\n",
        "print(correlacao)\n",
        "\n",
        "# Criar o heatmap\n",
        "plt.figure(figsize=(10,8))  # Ajustar tamanho do gráfico\n",
        "sbn.heatmap(correlacao, annot=True, fmt=\".2f\", cmap='coolwarm')\n",
        "plt.show()"
      ],
      "metadata": {
        "colab": {
          "base_uri": "https://localhost:8080/",
          "height": 751
        },
        "id": "YHrud4sm6bKS",
        "outputId": "370bacb4-3f48-4d51-a982-e7c9c5fac11f"
      },
      "execution_count": null,
      "outputs": [
        {
          "output_type": "stream",
          "name": "stdout",
          "text": [
            "                Student ID  Question ID  Type of Answer\n",
            "Student ID        1.000000     0.033439       -0.030064\n",
            "Question ID       0.033439     1.000000       -0.013683\n",
            "Type of Answer   -0.030064    -0.013683        1.000000\n"
          ]
        },
        {
          "output_type": "display_data",
          "data": {
            "text/plain": [
              "<Figure size 1000x800 with 2 Axes>"
            ],
            "image/png": "[encoded data removed]"
          },
          "metadata": {}
        }
      ]
    },
    {
      "cell_type": "code",
      "source": [
        "# Exibindo os nomes das colunas no DataFrame\n",
        "print(df.columns)\n"
      ],
      "metadata": {
        "colab": {
          "base_uri": "https://localhost:8080/"
        },
        "id": "_HEVTWQr66wy",
        "outputId": "91668733-c400-4a4d-b95b-bd6b147e09f9"
      },
      "execution_count": null,
      "outputs": [
        {
          "output_type": "stream",
          "name": "stdout",
          "text": [
            "Index(['Student ID', 'Student Country', 'Question ID', 'Type of Answer',\n",
            "       'Question Level', 'Topic', 'Subtopic', 'Keywords'],\n",
            "      dtype='object')\n"
          ]
        }
      ]
    },
    {
      "cell_type": "code",
      "source": [
        "# Remover espaços em branco no início e no fim dos nomes das colunas\n",
        "df.columns = df.columns.str.strip()\n"
      ],
      "metadata": {
        "id": "ubJKyCIR7mIF"
      },
      "execution_count": null,
      "outputs": []
    },
    {
      "cell_type": "code",
      "source": [
        "# Verificar as colunas após ajuste\n",
        "print(df.columns)\n"
      ],
      "metadata": {
        "colab": {
          "base_uri": "https://localhost:8080/"
        },
        "id": "RYUXMRqN7tmM",
        "outputId": "283320c8-1a8c-4335-dc51-b5043fc97c12"
      },
      "execution_count": null,
      "outputs": [
        {
          "output_type": "stream",
          "name": "stdout",
          "text": [
            "Index(['Student ID', 'Student Country', 'Question ID', 'Type of Answer',\n",
            "       'Question Level', 'Topic', 'Subtopic', 'Keywords'],\n",
            "      dtype='object')\n"
          ]
        }
      ]
    },
    {
      "cell_type": "code",
      "source": [
        "import pandas as pd\n",
        "from scipy.stats import chi2_contingency  # Importando o teste Qui-quadrado\n",
        "\n",
        "# Criando a tabela de contingência\n",
        "contingencia = pd.crosstab(df['Student Country'], df['Question Level'])\n",
        "\n",
        "# Executando o teste Qui-quadrado\n",
        "chi2, p, dof, expected = chi2_contingency(contingencia)\n",
        "\n",
        "# Resultados\n",
        "print(f\"Estatística Qui-quadrado: {chi2}\")\n",
        "print(f\"P-valor: {p}\")\n",
        "print(f\"Graus de liberdade: {dof}\")\n",
        "print(\"Frequências esperadas:\\n\", expected)\n",
        "\n",
        "# Interpretação\n",
        "if p < 0.05:\n",
        "    print(\"Rejeitamos a hipótese nula: Existe associação entre as variáveis.\")\n",
        "else:\n",
        "    print(\"Falhamos em rejeitar a hipótese nula: Não existe associação entre as variáveis.\")\n",
        "\n"
      ],
      "metadata": {
        "colab": {
          "base_uri": "https://localhost:8080/"
        },
        "id": "m3vXY5O97xPY",
        "outputId": "7a67aae8-7192-4dfb-897c-965ed2edca46"
      },
      "execution_count": null,
      "outputs": [
        {
          "output_type": "stream",
          "name": "stdout",
          "text": [
            "Estatística Qui-quadrado: 239.62929344463458\n",
            "P-valor: 4.455934291548657e-48\n",
            "Graus de liberdade: 7\n",
            "Frequências esperadas:\n",
            " [[  53.48837209  246.51162791]\n",
            " [ 242.12403101 1115.87596899]\n",
            " [ 257.27906977 1185.72093023]\n",
            " [ 979.72868217 4515.27131783]\n",
            " [  10.69767442   49.30232558]\n",
            " [  19.07751938   87.92248062]\n",
            " [ 134.6124031   620.3875969 ]\n",
            " [   4.99224806   23.00775194]]\n",
            "Rejeitamos a hipótese nula: Existe associação entre as variáveis.\n"
          ]
        }
      ]
    },
    {
      "cell_type": "code",
      "source": [
        "import pandas as pd\n",
        "from scipy.stats import chi2_contingency\n",
        "\n",
        "# Lista de variáveis a considerar\n",
        "variaveis = ['Student Country', 'Question Level', 'Topic', 'Subtopic']\n",
        "\n",
        "# Criando uma lista para armazenar os resultados\n",
        "resultados = []\n",
        "\n",
        "# Loop para analisar combinações de variáveis\n",
        "for i in range(len(variaveis)):\n",
        "    for j in range(i+1, len(variaveis)):\n",
        "        # Gerando tabela de contingência\n",
        "        contingencia = pd.crosstab(df[variaveis[i]], df[variaveis[j]])\n",
        "\n",
        "        # Executando o teste Qui-quadrado\n",
        "        chi2, p, dof, expected = chi2_contingency(contingencia)\n",
        "\n",
        "        # Armazenando os resultados em uma lista\n",
        "        resultados.append({\n",
        "            'Variável 1': variaveis[i],\n",
        "            'Variável 2': variaveis[j],\n",
        "            'Qui-quadrado': round(chi2, 2),\n",
        "            'P-valor': round(p, 4),\n",
        "            'Graus de Liberdade': dof,\n",
        "            'Associação': 'Sim' if p < 0.05 else 'Não'\n",
        "        })\n",
        "\n",
        "# Convertendo os resultados para um DataFrame\n",
        "tabela_resultados = pd.DataFrame(resultados)\n",
        "\n",
        "# Exibindo a tabela formatada\n",
        "print(tabela_resultados)\n"
      ],
      "metadata": {
        "colab": {
          "base_uri": "https://localhost:8080/"
        },
        "id": "U2eGUVbX8Uzq",
        "outputId": "87a9519f-bc10-43a8-b4d0-35738aef7730"
      },
      "execution_count": null,
      "outputs": [
        {
          "output_type": "stream",
          "name": "stdout",
          "text": [
            "        Variável 1      Variável 2  Qui-quadrado  P-valor  Graus de Liberdade  \\\n",
            "0  Student Country  Question Level        239.63      0.0                   7   \n",
            "1  Student Country           Topic       4137.84      0.0                  91   \n",
            "2  Student Country        Subtopic       5686.59      0.0                 161   \n",
            "3   Question Level           Topic        672.81      0.0                  13   \n",
            "4   Question Level        Subtopic        966.62      0.0                  23   \n",
            "5            Topic        Subtopic     124098.00      0.0                 299   \n",
            "\n",
            "  Associação  \n",
            "0        Sim  \n",
            "1        Sim  \n",
            "2        Sim  \n",
            "3        Sim  \n",
            "4        Sim  \n",
            "5        Sim  \n"
          ]
        }
      ]
    }
  ]
}